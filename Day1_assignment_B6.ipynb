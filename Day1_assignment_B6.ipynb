{
  "nbformat": 4,
  "nbformat_minor": 0,
  "metadata": {
    "colab": {
      "name": "Day1 assignment B6.ipynb",
      "provenance": [],
      "collapsed_sections": []
    },
    "kernelspec": {
      "name": "python3",
      "display_name": "Python 3"
    }
  },
  "cells": [
    {
      "cell_type": "code",
      "metadata": {
        "id": "ww2gK2Syu2cY",
        "colab_type": "code",
        "colab": {}
      },
      "source": [
        "what is python?\n",
        "Python is an object-oreinted and high level programming language.It has simple syntax.It was developed by Guido Van Rossum in 1991.\n",
        "The installation of the Python is of two ways:\n",
        "1.By installing Anaconda Navigator\n",
        "2.by using the website python.org\n",
        "\n",
        "what are code environments?types.\n",
        "It is the environment where we can write the code (or)we can compile the code and where we can see the output of the code.\n",
        "Types:\n",
        "Text editors\n",
        "Full IDE's\n",
        "Note book environment"
      ],
      "execution_count": null,
      "outputs": []
    },
    {
      "cell_type": "markdown",
      "metadata": {
        "id": "gSzev8-Xu3Bn",
        "colab_type": "text"
      },
      "source": [
        ""
      ]
    }
  ]
}