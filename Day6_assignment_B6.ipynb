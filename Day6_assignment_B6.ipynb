{
  "nbformat": 4,
  "nbformat_minor": 0,
  "metadata": {
    "colab": {
      "name": "Day6 assignment B6.ipynb",
      "provenance": [],
      "collapsed_sections": []
    },
    "kernelspec": {
      "name": "python3",
      "display_name": "Python 3"
    }
  },
  "cells": [
    {
      "cell_type": "code",
      "metadata": {
        "id": "IgWLuAbTlaRS",
        "colab_type": "code",
        "colab": {
          "base_uri": "https://localhost:8080/",
          "height": 67
        },
        "outputId": "d368bcc1-646a-4577-eb6e-fdb7d0e52404"
      },
      "source": [
        "list_keys = [\"a\",\"b\",\"c\",\"d\",\"e\"]\n",
        "list_values = [1,2,3,4,5,7,8]\n",
        "print(\"The key list is:\"+str(list_keys))\n",
        "print(\"The value list is:\"+str(list_values))\n",
        "res = {}\n",
        "for key in list_keys:\n",
        "  for value in list_values:\n",
        "    res[key] = value\n",
        "    list_values.remove(value)\n",
        "    break\n",
        "print(\"Resultant dictionary is:\" +str(res))\n"
      ],
      "execution_count": 17,
      "outputs": [
        {
          "output_type": "stream",
          "text": [
            "The key list is:['a', 'b', 'c', 'd', 'e']\n",
            "The value list is:[1, 2, 3, 4, 5, 7, 8]\n",
            "Resultant dictionary is:{'a': 1, 'b': 2, 'c': 3, 'd': 4, 'e': 5}\n"
          ],
          "name": "stdout"
        }
      ]
    },
    {
      "cell_type": "code",
      "metadata": {
        "id": "XcC77DMWnJX3",
        "colab_type": "code",
        "colab": {}
      },
      "source": [
        ""
      ],
      "execution_count": null,
      "outputs": []
    }
  ]
}