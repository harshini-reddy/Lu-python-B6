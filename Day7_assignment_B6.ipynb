{
  "nbformat": 4,
  "nbformat_minor": 0,
  "metadata": {
    "colab": {
      "name": "Day7 assignment B6.ipynb",
      "provenance": [],
      "collapsed_sections": []
    },
    "kernelspec": {
      "name": "python3",
      "display_name": "Python 3"
    }
  },
  "cells": [
    {
      "cell_type": "code",
      "metadata": {
        "id": "CwEKLLdurnDY",
        "colab_type": "code",
        "colab": {
          "base_uri": "https://localhost:8080/",
          "height": 34
        },
        "outputId": "c993227b-58f0-4c76-8269-807ceea8b064"
      },
      "source": [
        "# PROGRAM TO CREATE A NEEW DICTIONARY IN WHICH KEYS BECOME VALUES AND VALUES BECOMES KEYS\n",
        "dict1 = {21:\"ftp\",22:\"ssh\",23:\"telent\",80:\"http\"}\n",
        "dict2 = {value : key   for key,value in dict1.items()}\n",
        "print(\"The output :\",dict2)"
      ],
      "execution_count": 2,
      "outputs": [
        {
          "output_type": "stream",
          "text": [
            "The output : {'ftp': 21, 'ssh': 22, 'telent': 23, 'http': 80}\n"
          ],
          "name": "stdout"
        }
      ]
    },
    {
      "cell_type": "code",
      "metadata": {
        "id": "EzEDqcLms3iN",
        "colab_type": "code",
        "colab": {
          "base_uri": "https://localhost:8080/",
          "height": 34
        },
        "outputId": "3d4c8612-25ed-460d-c6f8-2338c6fd2ed2"
      },
      "source": [
        "#PROGRAM TO MAKE A NEW LIST WHICH CONTAINS THE SUM OF TUPPLE\n",
        "list1 = [(1,2),(3,4),(5,6),(4,5)]\n",
        "list2 = []\n",
        "for each in range(0,len(list1)):\n",
        "  a,b = list1[each]\n",
        "  list2.append(a+b)\n",
        "print(\"The list contains sum of tuple:\",list2)"
      ],
      "execution_count": 3,
      "outputs": [
        {
          "output_type": "stream",
          "text": [
            "The list contains sum of tuple: [3, 7, 11, 9]\n"
          ],
          "name": "stdout"
        }
      ]
    },
    {
      "cell_type": "code",
      "metadata": {
        "id": "iKaWbr04uDTG",
        "colab_type": "code",
        "colab": {
          "base_uri": "https://localhost:8080/",
          "height": 34
        },
        "outputId": "7f96335f-dfbd-4a81-c7e0-a9d4dc9977aa"
      },
      "source": [
        "#PROGRAM TO MAKE THE ELEMENTS IIN THE INNER LIST AND TUPLE TO THE OUTER LIST\n",
        "list1 = [(1,2,3),[1,2],['a','hit','less']]\n",
        "list2 = []\n",
        "list2 = [i for each in list1 for i in each]\n",
        "print(\"The required output:\",list2)"
      ],
      "execution_count": 4,
      "outputs": [
        {
          "output_type": "stream",
          "text": [
            "The required output: [1, 2, 3, 1, 2, 'a', 'hit', 'less']\n"
          ],
          "name": "stdout"
        }
      ]
    },
    {
      "cell_type": "code",
      "metadata": {
        "id": "KYp6j-lNupov",
        "colab_type": "code",
        "colab": {}
      },
      "source": [
        ""
      ],
      "execution_count": null,
      "outputs": []
    }
  ]
}