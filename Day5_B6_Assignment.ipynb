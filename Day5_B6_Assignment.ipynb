{
  "nbformat": 4,
  "nbformat_minor": 0,
  "metadata": {
    "colab": {
      "name": "Day5 B6 Assignment.ipynb",
      "provenance": [],
      "collapsed_sections": []
    },
    "kernelspec": {
      "name": "python3",
      "display_name": "Python 3"
    }
  },
  "cells": [
    {
      "cell_type": "code",
      "metadata": {
        "id": "dpRukULSBQ0B",
        "colab_type": "code",
        "colab": {
          "base_uri": "https://localhost:8080/",
          "height": 67
        },
        "outputId": "a23fddad-5b05-4c37-90b0-0f724584f3a4"
      },
      "source": [
        "list1=[10,20,40,60,70,80]\n",
        "list2=[5,15,25,35,45,60]\n",
        "print(\"The original list1 is :\"+str(list1))\n",
        "print(\"The original list2 is :\"+str(list2))\n",
        "size_1 = len(list1)\n",
        "size_2 = len(list2)\n",
        "res = []\n",
        "i,j = 0,0\n",
        "while i<size_1 and j<size_2:\n",
        "  if list1[i]<list2[j]:\n",
        "    res.append(list1[i])\n",
        "    i+=1\n",
        "  else:\n",
        "    res.append(list2[j])\n",
        "    j+=1\n",
        "res=res+list1[i:]+list2[j:]\n",
        "print(\"The combined sorted list is:\"+str(res))\n",
        "  \n"
      ],
      "execution_count": 10,
      "outputs": [
        {
          "output_type": "stream",
          "text": [
            "The original list1 is :[10, 20, 40, 60, 70, 80]\n",
            "The original list2 is :[5, 15, 25, 35, 45, 60]\n",
            "The combined sorted list is:[5, 10, 15, 20, 25, 35, 40, 45, 60, 60, 70, 80]\n"
          ],
          "name": "stdout"
        }
      ]
    },
    {
      "cell_type": "code",
      "metadata": {
        "id": "BfEjA5uCDXjc",
        "colab_type": "code",
        "colab": {
          "base_uri": "https://localhost:8080/",
          "height": 34
        },
        "outputId": "86486407-f18d-4f57-b26f-37573aa30b77"
      },
      "source": [
        "list1 = [0,1,2,10,4,1,0,56,2,0,1,3,0,56,0,4]\n",
        "list1.sort()\n",
        "print(list1)\n"
      ],
      "execution_count": 11,
      "outputs": [
        {
          "output_type": "stream",
          "text": [
            "[0, 0, 0, 0, 0, 1, 1, 1, 2, 2, 3, 4, 4, 10, 56, 56]\n"
          ],
          "name": "stdout"
        }
      ]
    },
    {
      "cell_type": "code",
      "metadata": {
        "id": "MfpuAnELG_Ml",
        "colab_type": "code",
        "colab": {}
      },
      "source": [
        ""
      ],
      "execution_count": null,
      "outputs": []
    }
  ]
}