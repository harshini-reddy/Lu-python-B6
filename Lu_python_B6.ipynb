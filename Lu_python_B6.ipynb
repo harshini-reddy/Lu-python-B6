{
  "nbformat": 4,
  "nbformat_minor": 0,
  "metadata": {
    "colab": {
      "name": "Lu python B6",
      "provenance": [],
      "collapsed_sections": []
    },
    "kernelspec": {
      "name": "python3",
      "display_name": "Python 3"
    }
  },
  "cells": [
    {
      "cell_type": "code",
      "metadata": {
        "id": "VHuwurGGH5dR",
        "colab_type": "code",
        "colab": {
          "base_uri": "https://localhost:8080/",
          "height": 50
        },
        "outputId": "815b0ab4-f05e-4c6e-e265-7c2613029b63"
      },
      "source": [
        "#program to find wether th number is prime or not\n",
        "a=int(input(\"Enter the number:\"))\n",
        "k=0\n",
        "for i in range(2,a//2+1):\n",
        "  if(a%i==0):\n",
        "    k=k+1\n",
        "if(k<=0):\n",
        "  print(\"Number is prime\")\n",
        "else:\n",
        "  print(\"Number is not prime\")"
      ],
      "execution_count": null,
      "outputs": [
        {
          "output_type": "stream",
          "text": [
            "Enter the number:12\n",
            "Number is not prime\n"
          ],
          "name": "stdout"
        }
      ]
    },
    {
      "cell_type": "code",
      "metadata": {
        "id": "PUBjKeo_JiJF",
        "colab_type": "code",
        "colab": {
          "base_uri": "https://localhost:8080/",
          "height": 34
        },
        "outputId": "69284536-2c16-421e-eec0-dfa0226fd152"
      },
      "source": [
        "#program to find sum of n natural numbers\n",
        "num=12\n",
        "if(num<0):\n",
        "  print(\"Enter the number\")\n",
        "else:\n",
        "  sum=0\n",
        "  while(num>0):\n",
        "    sum+=num\n",
        "    num-=1\n",
        "  print(\"the sum is\",sum)"
      ],
      "execution_count": null,
      "outputs": [
        {
          "output_type": "stream",
          "text": [
            "the sum is 78\n"
          ],
          "name": "stdout"
        }
      ]
    },
    {
      "cell_type": "code",
      "metadata": {
        "id": "Anm8DWYPKqnx",
        "colab_type": "code",
        "colab": {}
      },
      "source": [
        ""
      ],
      "execution_count": null,
      "outputs": []
    }
  ]
}